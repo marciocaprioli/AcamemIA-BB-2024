{
  "metadata": {
    "toc-autonumbering": true,
    "kernelspec": {
      "name": "python",
      "display_name": "Python (Pyodide)",
      "language": "python"
    },
    "language_info": {
      "codemirror_mode": {
        "name": "python",
        "version": 3
      },
      "file_extension": ".py",
      "mimetype": "text/x-python",
      "name": "python",
      "nbconvert_exporter": "python",
      "pygments_lexer": "ipython3",
      "version": "3.8"
    }
  },
  "nbformat_minor": 5,
  "nbformat": 4,
  "cells": [
    {
      "cell_type": "markdown",
      "source": "# AcademIA - BB\n\n# UAN\n\n## Live 02 - Estruração de Dados\n\n### Revisão sobre Pandas\n\n#### Importação da biblioteca\n\n#### Conceito de dataframe Pandas\n\n#### Criação manual de dataframe Pandas\n\n#### Exploração básica de dataframe\n\n### Levantamento de participantes no programa de capacitação\n- A aplicação da solução será fazer uma análise simples de participantes do AcademIA-BB. Serão carregados dados dos participantes (matricula, Nome, Dependência de Localização, Data de Ingresso, [Curso, Área de Conhecimento, Data de Conclusão, Instituição] e dados da dependência (código da UOR, nome reduzido da UOR, Código da dependência vinculado a UOR, número de dependências subordinadas).)\n\n#### Desenvolvimento\n- Para a resolução do problema, serão carregados três arquivos:\n    - func_perfil.csv, \n    - local_part_01.csv\n    - local_part_02.csv.\n- Após carregados os arquivos referentes à UOR, eles deverão ser unidos em um só dataframe Pandas.\n- Com todos os dados devidamente carregados em dataframes, estes deverão ser combinados (tanto de funcionários, como das UORs) para garantir as devidas análises.",
      "metadata": {},
      "id": "8db3cbd8"
    },
    {
      "cell_type": "markdown",
      "source": "# Importação da Biblioteca Pandas\nreferência: https://pandas.pydata.org/docs/.)",
      "metadata": {},
      "id": "4167a818"
    },
    {
      "cell_type": "code",
      "source": "import pandas as pd",
      "metadata": {
        "id": "43895597-c55c-4e6b-aff1-cb7602f60656",
        "trusted": true
      },
      "execution_count": 1,
      "outputs": [],
      "id": "514fb542"
    },
    {
      "cell_type": "markdown",
      "source": "# Overview sobre dataframe",
      "metadata": {},
      "id": "8b864a86"
    },
    {
      "cell_type": "markdown",
      "source": "## Criação de dataframe Pandas manualmente\n\nreferências: \n- https://pandas.pydata.org/docs/reference/api/pandas.DataFrame.html\n- https://www.w3schools.com/python/pandas/pandas_dataframes.asp\n- https://www.w3schools.com/Python/python_tuples.asp\n- https://www.geeksforgeeks.org/create-pyspark-dataframe-from-list-of-tuples/\n- https://pandas.pydata.org/docs/user_guide/10min.html",
      "metadata": {},
      "id": "318c75c0"
    },
    {
      "cell_type": "code",
      "source": "# Cria a lista de registros de participantes\nlista_participante = [\n    (\"Ana Maria\", \"1990-08-16\", \"GO\", True),\n    ('André Bernado', '1988-02-25', 'SP', False),\n    ('Fabrícia Alencar', '1985-03-29', 'DF', False),\n    ('Fabio José', '1979-02-22', None, True)\n]\n\n# criar a lista referente aos nomes da colunas do dataframe\nlista_coluna = [\"Nome\", \"Data_nascimento\", \"Naturalidade\", \"Indicador_conclusao_curso\"]\n\n# cria o dataframe\ndf_participante = pd.DataFrame(lista_participante, columns=lista_coluna)",
      "metadata": {
        "id": "23517061-c191-426d-9a9a-17f85590cfa1",
        "scrolled": true,
        "trusted": true
      },
      "execution_count": 2,
      "outputs": [],
      "id": "86e7249a"
    },
    {
      "cell_type": "markdown",
      "source": "### Exploração básica do dataframe",
      "metadata": {},
      "id": "677c67cb"
    },
    {
      "cell_type": "markdown",
      "source": "#### Mostra conteúdo do dataframe",
      "metadata": {},
      "id": "09162efc"
    },
    {
      "cell_type": "code",
      "source": "df_participante.head()",
      "metadata": {
        "id": "16195b0b-04b1-4236-8dda-e7800930136c",
        "trusted": true
      },
      "execution_count": 3,
      "outputs": [
        {
          "execution_count": 3,
          "output_type": "execute_result",
          "data": {
            "text/plain": "               Nome Data_nascimento Naturalidade  Indicador_conclusao_curso\n0         Ana Maria      1990-08-16           GO                       True\n1     André Bernado      1988-02-25           SP                      False\n2  Fabrícia Alencar      1985-03-29           DF                      False\n3        Fabio José      1979-02-22         None                       True",
            "text/html": "<div>\n<style scoped>\n    .dataframe tbody tr th:only-of-type {\n        vertical-align: middle;\n    }\n\n    .dataframe tbody tr th {\n        vertical-align: top;\n    }\n\n    .dataframe thead th {\n        text-align: right;\n    }\n</style>\n<table border=\"1\" class=\"dataframe\">\n  <thead>\n    <tr style=\"text-align: right;\">\n      <th></th>\n      <th>Nome</th>\n      <th>Data_nascimento</th>\n      <th>Naturalidade</th>\n      <th>Indicador_conclusao_curso</th>\n    </tr>\n  </thead>\n  <tbody>\n    <tr>\n      <th>0</th>\n      <td>Ana Maria</td>\n      <td>1990-08-16</td>\n      <td>GO</td>\n      <td>True</td>\n    </tr>\n    <tr>\n      <th>1</th>\n      <td>André Bernado</td>\n      <td>1988-02-25</td>\n      <td>SP</td>\n      <td>False</td>\n    </tr>\n    <tr>\n      <th>2</th>\n      <td>Fabrícia Alencar</td>\n      <td>1985-03-29</td>\n      <td>DF</td>\n      <td>False</td>\n    </tr>\n    <tr>\n      <th>3</th>\n      <td>Fabio José</td>\n      <td>1979-02-22</td>\n      <td>None</td>\n      <td>True</td>\n    </tr>\n  </tbody>\n</table>\n</div>"
          },
          "metadata": {}
        }
      ],
      "id": "5b16e6a5"
    },
    {
      "cell_type": "markdown",
      "source": "#### Mostra informação sobre os campos do dataframe\n\nreferência:\n\n- https://pandas.pydata.org/docs/user_guide/10min.html",
      "metadata": {},
      "id": "a422a43e"
    },
    {
      "cell_type": "code",
      "source": "df_participante.info()",
      "metadata": {
        "id": "a6e9264d-5112-44cf-a8d8-7802ab9f46bf",
        "trusted": true
      },
      "execution_count": 4,
      "outputs": [
        {
          "name": "stdout",
          "text": "<class 'pandas.core.frame.DataFrame'>\nRangeIndex: 4 entries, 0 to 3\nData columns (total 4 columns):\n #   Column                     Non-Null Count  Dtype \n---  ------                     --------------  ----- \n 0   Nome                       4 non-null      object\n 1   Data_nascimento            4 non-null      object\n 2   Naturalidade               3 non-null      object\n 3   Indicador_conclusao_curso  4 non-null      bool  \ndtypes: bool(1), object(3)\nmemory usage: 120.0+ bytes\n",
          "output_type": "stream"
        }
      ],
      "id": "63b68e99"
    },
    {
      "cell_type": "markdown",
      "source": "Mostra descrição (estatística) sobre os dados do dataframe",
      "metadata": {},
      "id": "65262783"
    },
    {
      "cell_type": "code",
      "source": "df_participante.describe()",
      "metadata": {
        "id": "883563c0-de6a-4262-a2a4-9c74de522edd",
        "trusted": true
      },
      "execution_count": 5,
      "outputs": [
        {
          "execution_count": 5,
          "output_type": "execute_result",
          "data": {
            "text/plain": "             Nome Data_nascimento Naturalidade Indicador_conclusao_curso\ncount           4               4            3                         4\nunique          4               4            3                         2\ntop     Ana Maria      1990-08-16           GO                      True\nfreq            1               1            1                         2",
            "text/html": "<div>\n<style scoped>\n    .dataframe tbody tr th:only-of-type {\n        vertical-align: middle;\n    }\n\n    .dataframe tbody tr th {\n        vertical-align: top;\n    }\n\n    .dataframe thead th {\n        text-align: right;\n    }\n</style>\n<table border=\"1\" class=\"dataframe\">\n  <thead>\n    <tr style=\"text-align: right;\">\n      <th></th>\n      <th>Nome</th>\n      <th>Data_nascimento</th>\n      <th>Naturalidade</th>\n      <th>Indicador_conclusao_curso</th>\n    </tr>\n  </thead>\n  <tbody>\n    <tr>\n      <th>count</th>\n      <td>4</td>\n      <td>4</td>\n      <td>3</td>\n      <td>4</td>\n    </tr>\n    <tr>\n      <th>unique</th>\n      <td>4</td>\n      <td>4</td>\n      <td>3</td>\n      <td>2</td>\n    </tr>\n    <tr>\n      <th>top</th>\n      <td>Ana Maria</td>\n      <td>1990-08-16</td>\n      <td>GO</td>\n      <td>True</td>\n    </tr>\n    <tr>\n      <th>freq</th>\n      <td>1</td>\n      <td>1</td>\n      <td>1</td>\n      <td>2</td>\n    </tr>\n  </tbody>\n</table>\n</div>"
          },
          "metadata": {}
        }
      ],
      "id": "14337733"
    },
    {
      "cell_type": "markdown",
      "source": "# Desenvolvimento\n- o desenvolvimento seguirá a ordem de um job ETL (extrac, transform, load)",
      "metadata": {},
      "id": "86521489"
    },
    {
      "cell_type": "markdown",
      "source": "## Aquisição de Dados",
      "metadata": {},
      "id": "5606a0a2"
    },
    {
      "cell_type": "markdown",
      "source": "### Dados dos funcionários",
      "metadata": {},
      "id": "fe50a11a"
    },
    {
      "cell_type": "code",
      "source": "import os, types\nimport pandas as pd",
      "metadata": {
        "trusted": true
      },
      "execution_count": 6,
      "outputs": [],
      "id": "0c40bbb2-ab8a-43f6-9a80-8709556db348"
    },
    {
      "cell_type": "code",
      "source": "# no labblite\n\ndf_1 = pd.read_csv('func_perfil.csv')\ndf_1.head(5)",
      "metadata": {
        "trusted": true
      },
      "execution_count": 7,
      "outputs": [
        {
          "execution_count": 7,
          "output_type": "execute_result",
          "data": {
            "text/plain": "   matricula              Nome  local de trabalho Data de Ingresso  \\\n0     236548  Sra. Laura Silva               8008       2021-06-03   \n1     236549    Henrique Ramos               8008       2020-06-28   \n2     236550      Marina Lopes               8008       2015-12-08   \n3     236551   Dra. Laura Dias               8008       2019-03-20   \n4     236552     Pietra Aragão               8008       2022-11-06   \n\n                  Curso        Área de Conhecimento Data de Conclusão  \\\n0              Botânica         Ciências Biológicas        2015-10-14   \n1  Engenharia Sanitária                 Engenharias        2019-03-03   \n2              Farmácia           Ciências da Saúde        2009-10-08   \n3            Fisiologia         Ciências Biológicas        2017-12-07   \n4           Comunicação  Ciências Sociais Aplicadas        2014-07-01   \n\n                                         Instituição  \n0  URI - Universidade Regional Integrada do Alto ...  \n1                  FAVAP - Faculdades Vale do Piancó  \n2     UNIVILLE - Universidade da Região de Joinville  \n3             CUSC - Centro Universitário São Camilo  \n4          Unifametro - Centro Universitário Fametro  ",
            "text/html": "<div>\n<style scoped>\n    .dataframe tbody tr th:only-of-type {\n        vertical-align: middle;\n    }\n\n    .dataframe tbody tr th {\n        vertical-align: top;\n    }\n\n    .dataframe thead th {\n        text-align: right;\n    }\n</style>\n<table border=\"1\" class=\"dataframe\">\n  <thead>\n    <tr style=\"text-align: right;\">\n      <th></th>\n      <th>matricula</th>\n      <th>Nome</th>\n      <th>local de trabalho</th>\n      <th>Data de Ingresso</th>\n      <th>Curso</th>\n      <th>Área de Conhecimento</th>\n      <th>Data de Conclusão</th>\n      <th>Instituição</th>\n    </tr>\n  </thead>\n  <tbody>\n    <tr>\n      <th>0</th>\n      <td>236548</td>\n      <td>Sra. Laura Silva</td>\n      <td>8008</td>\n      <td>2021-06-03</td>\n      <td>Botânica</td>\n      <td>Ciências Biológicas</td>\n      <td>2015-10-14</td>\n      <td>URI - Universidade Regional Integrada do Alto ...</td>\n    </tr>\n    <tr>\n      <th>1</th>\n      <td>236549</td>\n      <td>Henrique Ramos</td>\n      <td>8008</td>\n      <td>2020-06-28</td>\n      <td>Engenharia Sanitária</td>\n      <td>Engenharias</td>\n      <td>2019-03-03</td>\n      <td>FAVAP - Faculdades Vale do Piancó</td>\n    </tr>\n    <tr>\n      <th>2</th>\n      <td>236550</td>\n      <td>Marina Lopes</td>\n      <td>8008</td>\n      <td>2015-12-08</td>\n      <td>Farmácia</td>\n      <td>Ciências da Saúde</td>\n      <td>2009-10-08</td>\n      <td>UNIVILLE - Universidade da Região de Joinville</td>\n    </tr>\n    <tr>\n      <th>3</th>\n      <td>236551</td>\n      <td>Dra. Laura Dias</td>\n      <td>8008</td>\n      <td>2019-03-20</td>\n      <td>Fisiologia</td>\n      <td>Ciências Biológicas</td>\n      <td>2017-12-07</td>\n      <td>CUSC - Centro Universitário São Camilo</td>\n    </tr>\n    <tr>\n      <th>4</th>\n      <td>236552</td>\n      <td>Pietra Aragão</td>\n      <td>8008</td>\n      <td>2022-11-06</td>\n      <td>Comunicação</td>\n      <td>Ciências Sociais Aplicadas</td>\n      <td>2014-07-01</td>\n      <td>Unifametro - Centro Universitário Fametro</td>\n    </tr>\n  </tbody>\n</table>\n</div>"
          },
          "metadata": {}
        }
      ],
      "id": "fb964d83-2ca3-42e1-bfc6-f7148ec877dd"
    },
    {
      "cell_type": "markdown",
      "source": "#### Renomeia o dataframe",
      "metadata": {},
      "id": "eee67f4d"
    },
    {
      "cell_type": "code",
      "source": "df_func = df_1\ndf_func",
      "metadata": {
        "trusted": true
      },
      "execution_count": 8,
      "outputs": [
        {
          "execution_count": 8,
          "output_type": "execute_result",
          "data": {
            "text/plain": "      matricula                  Nome  local de trabalho Data de Ingresso  \\\n0        236548      Sra. Laura Silva               8008       2021-06-03   \n1        236549        Henrique Ramos               8008       2020-06-28   \n2        236550          Marina Lopes               8008       2015-12-08   \n3        236551       Dra. Laura Dias               8008       2019-03-20   \n4        236552         Pietra Aragão               8008       2022-11-06   \n...         ...                   ...                ...              ...   \n5995     242543         Renan Almeida               9909       2023-07-03   \n5996     242544     Stephany da Cunha               9909       2015-10-01   \n5997     242545         Clarice Gomes               9909       2015-02-20   \n5998     242546  Ana Vitória Oliveira               9909       2022-01-30   \n5999     242547        Fernanda Ramos               9909       2016-09-06   \n\n                                           Curso         Área de Conhecimento  \\\n0                                       Botânica          Ciências Biológicas   \n1                           Engenharia Sanitária                  Engenharias   \n2                                       Farmácia            Ciências da Saúde   \n3                                     Fisiologia          Ciências Biológicas   \n4                                    Comunicação   Ciências Sociais Aplicadas   \n...                                          ...                          ...   \n5995  Recursos Florestais e Engenharia Florestal            Ciências Agrárias   \n5996                                    História             Ciências Humanas   \n5997                                  Morfologia          Ciências Biológicas   \n5998                                   Filosofia             Ciências Humanas   \n5999                                      Letras  Lingüística, Letras e Artes   \n\n     Data de Conclusão                                        Instituição  \n0           2015-10-14  URI - Universidade Regional Integrada do Alto ...  \n1           2019-03-03                  FAVAP - Faculdades Vale do Piancó  \n2           2009-10-08     UNIVILLE - Universidade da Região de Joinville  \n3           2017-12-07             CUSC - Centro Universitário São Camilo  \n4           2014-07-01          Unifametro - Centro Universitário Fametro  \n...                ...                                                ...  \n5995        2011-09-16                 UNESA - Universidade Estácio de Sá  \n5996        2013-06-22    CESMAC - Centro de Estudos Superiores de Maceió  \n5997        2011-01-01  USCS - Universidade Municipal de São Caetano d...  \n5998        2019-05-02  FACELI - Faculdade de Ensino Superior de Linhares  \n5999        2011-02-18  CEETEPS - Centro Estadual de Educação Tecnológ...  \n\n[6000 rows x 8 columns]",
            "text/html": "<div>\n<style scoped>\n    .dataframe tbody tr th:only-of-type {\n        vertical-align: middle;\n    }\n\n    .dataframe tbody tr th {\n        vertical-align: top;\n    }\n\n    .dataframe thead th {\n        text-align: right;\n    }\n</style>\n<table border=\"1\" class=\"dataframe\">\n  <thead>\n    <tr style=\"text-align: right;\">\n      <th></th>\n      <th>matricula</th>\n      <th>Nome</th>\n      <th>local de trabalho</th>\n      <th>Data de Ingresso</th>\n      <th>Curso</th>\n      <th>Área de Conhecimento</th>\n      <th>Data de Conclusão</th>\n      <th>Instituição</th>\n    </tr>\n  </thead>\n  <tbody>\n    <tr>\n      <th>0</th>\n      <td>236548</td>\n      <td>Sra. Laura Silva</td>\n      <td>8008</td>\n      <td>2021-06-03</td>\n      <td>Botânica</td>\n      <td>Ciências Biológicas</td>\n      <td>2015-10-14</td>\n      <td>URI - Universidade Regional Integrada do Alto ...</td>\n    </tr>\n    <tr>\n      <th>1</th>\n      <td>236549</td>\n      <td>Henrique Ramos</td>\n      <td>8008</td>\n      <td>2020-06-28</td>\n      <td>Engenharia Sanitária</td>\n      <td>Engenharias</td>\n      <td>2019-03-03</td>\n      <td>FAVAP - Faculdades Vale do Piancó</td>\n    </tr>\n    <tr>\n      <th>2</th>\n      <td>236550</td>\n      <td>Marina Lopes</td>\n      <td>8008</td>\n      <td>2015-12-08</td>\n      <td>Farmácia</td>\n      <td>Ciências da Saúde</td>\n      <td>2009-10-08</td>\n      <td>UNIVILLE - Universidade da Região de Joinville</td>\n    </tr>\n    <tr>\n      <th>3</th>\n      <td>236551</td>\n      <td>Dra. Laura Dias</td>\n      <td>8008</td>\n      <td>2019-03-20</td>\n      <td>Fisiologia</td>\n      <td>Ciências Biológicas</td>\n      <td>2017-12-07</td>\n      <td>CUSC - Centro Universitário São Camilo</td>\n    </tr>\n    <tr>\n      <th>4</th>\n      <td>236552</td>\n      <td>Pietra Aragão</td>\n      <td>8008</td>\n      <td>2022-11-06</td>\n      <td>Comunicação</td>\n      <td>Ciências Sociais Aplicadas</td>\n      <td>2014-07-01</td>\n      <td>Unifametro - Centro Universitário Fametro</td>\n    </tr>\n    <tr>\n      <th>...</th>\n      <td>...</td>\n      <td>...</td>\n      <td>...</td>\n      <td>...</td>\n      <td>...</td>\n      <td>...</td>\n      <td>...</td>\n      <td>...</td>\n    </tr>\n    <tr>\n      <th>5995</th>\n      <td>242543</td>\n      <td>Renan Almeida</td>\n      <td>9909</td>\n      <td>2023-07-03</td>\n      <td>Recursos Florestais e Engenharia Florestal</td>\n      <td>Ciências Agrárias</td>\n      <td>2011-09-16</td>\n      <td>UNESA - Universidade Estácio de Sá</td>\n    </tr>\n    <tr>\n      <th>5996</th>\n      <td>242544</td>\n      <td>Stephany da Cunha</td>\n      <td>9909</td>\n      <td>2015-10-01</td>\n      <td>História</td>\n      <td>Ciências Humanas</td>\n      <td>2013-06-22</td>\n      <td>CESMAC - Centro de Estudos Superiores de Maceió</td>\n    </tr>\n    <tr>\n      <th>5997</th>\n      <td>242545</td>\n      <td>Clarice Gomes</td>\n      <td>9909</td>\n      <td>2015-02-20</td>\n      <td>Morfologia</td>\n      <td>Ciências Biológicas</td>\n      <td>2011-01-01</td>\n      <td>USCS - Universidade Municipal de São Caetano d...</td>\n    </tr>\n    <tr>\n      <th>5998</th>\n      <td>242546</td>\n      <td>Ana Vitória Oliveira</td>\n      <td>9909</td>\n      <td>2022-01-30</td>\n      <td>Filosofia</td>\n      <td>Ciências Humanas</td>\n      <td>2019-05-02</td>\n      <td>FACELI - Faculdade de Ensino Superior de Linhares</td>\n    </tr>\n    <tr>\n      <th>5999</th>\n      <td>242547</td>\n      <td>Fernanda Ramos</td>\n      <td>9909</td>\n      <td>2016-09-06</td>\n      <td>Letras</td>\n      <td>Lingüística, Letras e Artes</td>\n      <td>2011-02-18</td>\n      <td>CEETEPS - Centro Estadual de Educação Tecnológ...</td>\n    </tr>\n  </tbody>\n</table>\n<p>6000 rows × 8 columns</p>\n</div>"
          },
          "metadata": {}
        }
      ],
      "id": "0dd05a01"
    },
    {
      "cell_type": "markdown",
      "source": "#### exploração básica",
      "metadata": {},
      "id": "a2038ecf"
    },
    {
      "cell_type": "markdown",
      "source": "##### Mostrar informação sobre os campos do dataframe",
      "metadata": {},
      "id": "acb1c356"
    },
    {
      "cell_type": "code",
      "source": "df_1.info()",
      "metadata": {
        "id": "99a1d3cd-c16a-4b85-a3c3-c1c9b4a7d445",
        "trusted": true
      },
      "execution_count": 9,
      "outputs": [
        {
          "name": "stdout",
          "text": "<class 'pandas.core.frame.DataFrame'>\nRangeIndex: 6000 entries, 0 to 5999\nData columns (total 8 columns):\n #   Column                Non-Null Count  Dtype \n---  ------                --------------  ----- \n 0   matricula             6000 non-null   int64 \n 1   Nome                  6000 non-null   object\n 2   local de trabalho     6000 non-null   int64 \n 3   Data de Ingresso      6000 non-null   object\n 4   Curso                 6000 non-null   object\n 5   Área de Conhecimento  6000 non-null   object\n 6   Data de Conclusão     6000 non-null   object\n 7   Instituição           6000 non-null   object\ndtypes: int64(2), object(6)\nmemory usage: 234.4+ KB\n",
          "output_type": "stream"
        }
      ],
      "id": "abd97b16"
    },
    {
      "cell_type": "markdown",
      "source": "### Dados de Dependência",
      "metadata": {},
      "id": "bf5df7a7"
    },
    {
      "cell_type": "markdown",
      "source": "#### Carrega o primeiro arquivo com dados das dependências",
      "metadata": {},
      "id": "f778e7b7"
    },
    {
      "cell_type": "code",
      "source": "#no labblite\n\ndf_2 = pd.read_csv('local_part_01.csv', sep=\";\")\ndf_2.head(2)",
      "metadata": {
        "trusted": true
      },
      "execution_count": 10,
      "outputs": [
        {
          "execution_count": 10,
          "output_type": "execute_result",
          "data": {
            "text/plain": "    COD NOME_LOCAL  COD_LOCAL NIVEL\n0  7840        RIO          1     S\n1  7850     MANAUS          2     S",
            "text/html": "<div>\n<style scoped>\n    .dataframe tbody tr th:only-of-type {\n        vertical-align: middle;\n    }\n\n    .dataframe tbody tr th {\n        vertical-align: top;\n    }\n\n    .dataframe thead th {\n        text-align: right;\n    }\n</style>\n<table border=\"1\" class=\"dataframe\">\n  <thead>\n    <tr style=\"text-align: right;\">\n      <th></th>\n      <th>COD</th>\n      <th>NOME_LOCAL</th>\n      <th>COD_LOCAL</th>\n      <th>NIVEL</th>\n    </tr>\n  </thead>\n  <tbody>\n    <tr>\n      <th>0</th>\n      <td>7840</td>\n      <td>RIO</td>\n      <td>1</td>\n      <td>S</td>\n    </tr>\n    <tr>\n      <th>1</th>\n      <td>7850</td>\n      <td>MANAUS</td>\n      <td>2</td>\n      <td>S</td>\n    </tr>\n  </tbody>\n</table>\n</div>"
          },
          "metadata": {}
        }
      ],
      "id": "220d5b9b-6e40-4598-8409-2e470fc1c5a0"
    },
    {
      "cell_type": "markdown",
      "source": "##### Renomeia o dataframe",
      "metadata": {},
      "id": "070f13e5"
    },
    {
      "cell_type": "code",
      "source": "df_dep01 = df_2\ndf_dep01.head(2)",
      "metadata": {
        "trusted": true
      },
      "execution_count": 11,
      "outputs": [
        {
          "execution_count": 11,
          "output_type": "execute_result",
          "data": {
            "text/plain": "    COD NOME_LOCAL  COD_LOCAL NIVEL\n0  7840        RIO          1     S\n1  7850     MANAUS          2     S",
            "text/html": "<div>\n<style scoped>\n    .dataframe tbody tr th:only-of-type {\n        vertical-align: middle;\n    }\n\n    .dataframe tbody tr th {\n        vertical-align: top;\n    }\n\n    .dataframe thead th {\n        text-align: right;\n    }\n</style>\n<table border=\"1\" class=\"dataframe\">\n  <thead>\n    <tr style=\"text-align: right;\">\n      <th></th>\n      <th>COD</th>\n      <th>NOME_LOCAL</th>\n      <th>COD_LOCAL</th>\n      <th>NIVEL</th>\n    </tr>\n  </thead>\n  <tbody>\n    <tr>\n      <th>0</th>\n      <td>7840</td>\n      <td>RIO</td>\n      <td>1</td>\n      <td>S</td>\n    </tr>\n    <tr>\n      <th>1</th>\n      <td>7850</td>\n      <td>MANAUS</td>\n      <td>2</td>\n      <td>S</td>\n    </tr>\n  </tbody>\n</table>\n</div>"
          },
          "metadata": {}
        }
      ],
      "id": "a09b97a3"
    },
    {
      "cell_type": "markdown",
      "source": "#### Carrega o primeiro arquivo com dados das dependências",
      "metadata": {},
      "id": "29b580e4"
    },
    {
      "cell_type": "code",
      "source": "# no labblite\ndf_3 = pd.read_csv('local_part_02.csv', sep=\";\")\ndf_3.head(2)\n",
      "metadata": {
        "trusted": true
      },
      "execution_count": 12,
      "outputs": [
        {
          "execution_count": 12,
          "output_type": "execute_result",
          "data": {
            "text/plain": "      COD          NOME_LOCAL  COD_LOCAL NIVEL\n0  229945  ASS.LEGISLATIVA-BA          6     D\n1  230070       MEX-7.R C MEC         35     D",
            "text/html": "<div>\n<style scoped>\n    .dataframe tbody tr th:only-of-type {\n        vertical-align: middle;\n    }\n\n    .dataframe tbody tr th {\n        vertical-align: top;\n    }\n\n    .dataframe thead th {\n        text-align: right;\n    }\n</style>\n<table border=\"1\" class=\"dataframe\">\n  <thead>\n    <tr style=\"text-align: right;\">\n      <th></th>\n      <th>COD</th>\n      <th>NOME_LOCAL</th>\n      <th>COD_LOCAL</th>\n      <th>NIVEL</th>\n    </tr>\n  </thead>\n  <tbody>\n    <tr>\n      <th>0</th>\n      <td>229945</td>\n      <td>ASS.LEGISLATIVA-BA</td>\n      <td>6</td>\n      <td>D</td>\n    </tr>\n    <tr>\n      <th>1</th>\n      <td>230070</td>\n      <td>MEX-7.R C MEC</td>\n      <td>35</td>\n      <td>D</td>\n    </tr>\n  </tbody>\n</table>\n</div>"
          },
          "metadata": {}
        }
      ],
      "id": "a0dc522d-d3d3-400f-a9e0-889d3cea6689"
    },
    {
      "cell_type": "markdown",
      "source": "##### Renomeia o dataframe",
      "metadata": {},
      "id": "b56b4679"
    },
    {
      "cell_type": "code",
      "source": "df_dep02 = df_3\ndf_dep02.head(2)",
      "metadata": {
        "trusted": true
      },
      "execution_count": 13,
      "outputs": [
        {
          "execution_count": 13,
          "output_type": "execute_result",
          "data": {
            "text/plain": "      COD          NOME_LOCAL  COD_LOCAL NIVEL\n0  229945  ASS.LEGISLATIVA-BA          6     D\n1  230070       MEX-7.R C MEC         35     D",
            "text/html": "<div>\n<style scoped>\n    .dataframe tbody tr th:only-of-type {\n        vertical-align: middle;\n    }\n\n    .dataframe tbody tr th {\n        vertical-align: top;\n    }\n\n    .dataframe thead th {\n        text-align: right;\n    }\n</style>\n<table border=\"1\" class=\"dataframe\">\n  <thead>\n    <tr style=\"text-align: right;\">\n      <th></th>\n      <th>COD</th>\n      <th>NOME_LOCAL</th>\n      <th>COD_LOCAL</th>\n      <th>NIVEL</th>\n    </tr>\n  </thead>\n  <tbody>\n    <tr>\n      <th>0</th>\n      <td>229945</td>\n      <td>ASS.LEGISLATIVA-BA</td>\n      <td>6</td>\n      <td>D</td>\n    </tr>\n    <tr>\n      <th>1</th>\n      <td>230070</td>\n      <td>MEX-7.R C MEC</td>\n      <td>35</td>\n      <td>D</td>\n    </tr>\n  </tbody>\n</table>\n</div>"
          },
          "metadata": {}
        }
      ],
      "id": "f7a13d74"
    },
    {
      "cell_type": "markdown",
      "source": "#### exploração básica",
      "metadata": {},
      "id": "4a408222"
    },
    {
      "cell_type": "markdown",
      "source": "##### Mostrar informação sobre os campos do dataframe",
      "metadata": {},
      "id": "08aec190"
    },
    {
      "cell_type": "code",
      "source": "df_dep01.info()",
      "metadata": {
        "id": "3fa5366a-6552-4c9a-8b07-8a36fb838da9",
        "trusted": true
      },
      "execution_count": 14,
      "outputs": [
        {
          "name": "stdout",
          "text": "<class 'pandas.core.frame.DataFrame'>\nRangeIndex: 21501 entries, 0 to 21500\nData columns (total 4 columns):\n #   Column      Non-Null Count  Dtype \n---  ------      --------------  ----- \n 0   COD         21501 non-null  int64 \n 1   NOME_LOCAL  21501 non-null  object\n 2   COD_LOCAL   21501 non-null  int64 \n 3   NIVEL       21501 non-null  object\ndtypes: int64(2), object(2)\nmemory usage: 504.0+ KB\n",
          "output_type": "stream"
        }
      ],
      "id": "971155a1"
    },
    {
      "cell_type": "code",
      "source": "df_dep02.info()",
      "metadata": {
        "id": "31d48aee-e8e8-4fdd-9a95-96440559b7e6",
        "trusted": true
      },
      "execution_count": 15,
      "outputs": [
        {
          "name": "stdout",
          "text": "<class 'pandas.core.frame.DataFrame'>\nRangeIndex: 13379 entries, 0 to 13378\nData columns (total 4 columns):\n #   Column      Non-Null Count  Dtype \n---  ------      --------------  ----- \n 0   COD         13379 non-null  int64 \n 1   NOME_LOCAL  13379 non-null  object\n 2   COD_LOCAL   13379 non-null  int64 \n 3   NIVEL       13379 non-null  object\ndtypes: int64(2), object(2)\nmemory usage: 313.6+ KB\n",
          "output_type": "stream"
        }
      ],
      "id": "ce4f530b"
    },
    {
      "cell_type": "markdown",
      "source": "#### União dos dois dataframes",
      "metadata": {},
      "id": "f19a6bd4"
    },
    {
      "cell_type": "code",
      "source": "lista_dep = [df_dep01, df_dep02]\n\ndf_dep = pd.concat(lista_dep)",
      "metadata": {
        "id": "ba6803ba-0c50-40e8-a384-b00d600859ab",
        "trusted": true
      },
      "execution_count": 16,
      "outputs": [],
      "id": "61ef5d37"
    },
    {
      "cell_type": "markdown",
      "source": "##### Mostrar registros carregados",
      "metadata": {},
      "id": "d80eb261"
    },
    {
      "cell_type": "code",
      "source": "df_dep.head(5000)",
      "metadata": {
        "id": "79e4562b-a1ab-4a3a-941a-ad7d1968f566",
        "trusted": true
      },
      "execution_count": 17,
      "outputs": [
        {
          "execution_count": 17,
          "output_type": "execute_result",
          "data": {
            "text/plain": "        COD           NOME_LOCAL  COD_LOCAL NIVEL\n0      7840                  RIO          1     S\n1      7850               MANAUS          2     S\n2      7855    PRESIDENTE VARGAS          3     S\n3      7860               SANTOS          4     S\n4      7870    CAMPOS GOYTACAZES          5     S\n...     ...                  ...        ...   ...\n4995  53760          PSO MARILIA       7839     S\n4996  53765             PSO MAUA       7840     S\n4997  53780          PSO TAUBATE       7843     S\n4998  53785   PSO PAE S.PAULO II       7844     S\n4999  53790  PSO PAE S.PAULO III       7845     S\n\n[5000 rows x 4 columns]",
            "text/html": "<div>\n<style scoped>\n    .dataframe tbody tr th:only-of-type {\n        vertical-align: middle;\n    }\n\n    .dataframe tbody tr th {\n        vertical-align: top;\n    }\n\n    .dataframe thead th {\n        text-align: right;\n    }\n</style>\n<table border=\"1\" class=\"dataframe\">\n  <thead>\n    <tr style=\"text-align: right;\">\n      <th></th>\n      <th>COD</th>\n      <th>NOME_LOCAL</th>\n      <th>COD_LOCAL</th>\n      <th>NIVEL</th>\n    </tr>\n  </thead>\n  <tbody>\n    <tr>\n      <th>0</th>\n      <td>7840</td>\n      <td>RIO</td>\n      <td>1</td>\n      <td>S</td>\n    </tr>\n    <tr>\n      <th>1</th>\n      <td>7850</td>\n      <td>MANAUS</td>\n      <td>2</td>\n      <td>S</td>\n    </tr>\n    <tr>\n      <th>2</th>\n      <td>7855</td>\n      <td>PRESIDENTE VARGAS</td>\n      <td>3</td>\n      <td>S</td>\n    </tr>\n    <tr>\n      <th>3</th>\n      <td>7860</td>\n      <td>SANTOS</td>\n      <td>4</td>\n      <td>S</td>\n    </tr>\n    <tr>\n      <th>4</th>\n      <td>7870</td>\n      <td>CAMPOS GOYTACAZES</td>\n      <td>5</td>\n      <td>S</td>\n    </tr>\n    <tr>\n      <th>...</th>\n      <td>...</td>\n      <td>...</td>\n      <td>...</td>\n      <td>...</td>\n    </tr>\n    <tr>\n      <th>4995</th>\n      <td>53760</td>\n      <td>PSO MARILIA</td>\n      <td>7839</td>\n      <td>S</td>\n    </tr>\n    <tr>\n      <th>4996</th>\n      <td>53765</td>\n      <td>PSO MAUA</td>\n      <td>7840</td>\n      <td>S</td>\n    </tr>\n    <tr>\n      <th>4997</th>\n      <td>53780</td>\n      <td>PSO TAUBATE</td>\n      <td>7843</td>\n      <td>S</td>\n    </tr>\n    <tr>\n      <th>4998</th>\n      <td>53785</td>\n      <td>PSO PAE S.PAULO II</td>\n      <td>7844</td>\n      <td>S</td>\n    </tr>\n    <tr>\n      <th>4999</th>\n      <td>53790</td>\n      <td>PSO PAE S.PAULO III</td>\n      <td>7845</td>\n      <td>S</td>\n    </tr>\n  </tbody>\n</table>\n<p>5000 rows × 4 columns</p>\n</div>"
          },
          "metadata": {}
        }
      ],
      "id": "fa1fd25e"
    },
    {
      "cell_type": "markdown",
      "source": "##### Mostrar informação sobre os campos do dataframe",
      "metadata": {},
      "id": "d3544bcb"
    },
    {
      "cell_type": "code",
      "source": "df_dep.info()",
      "metadata": {
        "id": "a46ff912-6d4b-4891-91d8-d5ef35cacbe5",
        "trusted": true
      },
      "execution_count": 18,
      "outputs": [
        {
          "name": "stdout",
          "text": "<class 'pandas.core.frame.DataFrame'>\nInt64Index: 34880 entries, 0 to 13378\nData columns (total 4 columns):\n #   Column      Non-Null Count  Dtype \n---  ------      --------------  ----- \n 0   COD         34880 non-null  int64 \n 1   NOME_LOCAL  34880 non-null  object\n 2   COD_LOCAL   34880 non-null  int64 \n 3   NIVEL       34880 non-null  object\ndtypes: int64(2), object(2)\nmemory usage: 1.1+ MB\n",
          "output_type": "stream"
        }
      ],
      "id": "74a696fc"
    },
    {
      "cell_type": "markdown",
      "source": "#### União os dois dataframes de Dependências\n\n- os valores do dataframe \"df_dep02\" vão ser acrescentado no final do dataframe \"df_dep01\"",
      "metadata": {},
      "id": "838d4c10"
    },
    {
      "cell_type": "code",
      "source": "# cria lista contendo os dois dataframe\nlista_df_dep = [df_dep01, df_dep02]\n\n# faz a união utilizando o método do objeto pd\ndf_dep = pd.concat(lista_df_dep)\n\n# imprime o dataframe resultante da união dos dois dataframes\ndf_dep",
      "metadata": {
        "trusted": true
      },
      "execution_count": 19,
      "outputs": [
        {
          "execution_count": 19,
          "output_type": "execute_result",
          "data": {
            "text/plain": "          COD            NOME_LOCAL  COD_LOCAL NIVEL\n0        7840                   RIO          1     S\n1        7850                MANAUS          2     S\n2        7855     PRESIDENTE VARGAS          3     S\n3        7860                SANTOS          4     S\n4        7870     CAMPOS GOYTACAZES          5     S\n...       ...                   ...        ...   ...\n13374  449475  DIOPE/ATAC COMEX MPE       9600     P\n13375  449480  CENOP N PF/CONSORCIO       3901     P\n13376  449490             USI/GESAE       8896     P\n13377  449495       DITEC/GECAP6/G6       9909     P\n13378  449500     DITEC/PROC. DE TI       9903     P\n\n[34880 rows x 4 columns]",
            "text/html": "<div>\n<style scoped>\n    .dataframe tbody tr th:only-of-type {\n        vertical-align: middle;\n    }\n\n    .dataframe tbody tr th {\n        vertical-align: top;\n    }\n\n    .dataframe thead th {\n        text-align: right;\n    }\n</style>\n<table border=\"1\" class=\"dataframe\">\n  <thead>\n    <tr style=\"text-align: right;\">\n      <th></th>\n      <th>COD</th>\n      <th>NOME_LOCAL</th>\n      <th>COD_LOCAL</th>\n      <th>NIVEL</th>\n    </tr>\n  </thead>\n  <tbody>\n    <tr>\n      <th>0</th>\n      <td>7840</td>\n      <td>RIO</td>\n      <td>1</td>\n      <td>S</td>\n    </tr>\n    <tr>\n      <th>1</th>\n      <td>7850</td>\n      <td>MANAUS</td>\n      <td>2</td>\n      <td>S</td>\n    </tr>\n    <tr>\n      <th>2</th>\n      <td>7855</td>\n      <td>PRESIDENTE VARGAS</td>\n      <td>3</td>\n      <td>S</td>\n    </tr>\n    <tr>\n      <th>3</th>\n      <td>7860</td>\n      <td>SANTOS</td>\n      <td>4</td>\n      <td>S</td>\n    </tr>\n    <tr>\n      <th>4</th>\n      <td>7870</td>\n      <td>CAMPOS GOYTACAZES</td>\n      <td>5</td>\n      <td>S</td>\n    </tr>\n    <tr>\n      <th>...</th>\n      <td>...</td>\n      <td>...</td>\n      <td>...</td>\n      <td>...</td>\n    </tr>\n    <tr>\n      <th>13374</th>\n      <td>449475</td>\n      <td>DIOPE/ATAC COMEX MPE</td>\n      <td>9600</td>\n      <td>P</td>\n    </tr>\n    <tr>\n      <th>13375</th>\n      <td>449480</td>\n      <td>CENOP N PF/CONSORCIO</td>\n      <td>3901</td>\n      <td>P</td>\n    </tr>\n    <tr>\n      <th>13376</th>\n      <td>449490</td>\n      <td>USI/GESAE</td>\n      <td>8896</td>\n      <td>P</td>\n    </tr>\n    <tr>\n      <th>13377</th>\n      <td>449495</td>\n      <td>DITEC/GECAP6/G6</td>\n      <td>9909</td>\n      <td>P</td>\n    </tr>\n    <tr>\n      <th>13378</th>\n      <td>449500</td>\n      <td>DITEC/PROC. DE TI</td>\n      <td>9903</td>\n      <td>P</td>\n    </tr>\n  </tbody>\n</table>\n<p>34880 rows × 4 columns</p>\n</div>"
          },
          "metadata": {}
        }
      ],
      "id": "f4226f0b"
    },
    {
      "cell_type": "markdown",
      "source": "## Transformação dos dados",
      "metadata": {},
      "id": "8db60984"
    },
    {
      "cell_type": "markdown",
      "source": "### Combinação dos dataframes de funcionários e dependências\n\nReferências:\n- https://pandas.pydata.org/docs/reference/api/pandas.DataFrame.merge.html\n- https://medium.com/data-hackers/pandas-combinando-data-frames-com-merge-e-concat-10e7d07ca5ec\n- https://www.w3schools.com/python/pandas/ref_df_merge.asp\n- https://pandas.pydata.org/pandas-docs/stable/user_guide/merging.html\n- https://medium.com/@aneuk3/sql-joins-defcf817e8cf",
      "metadata": {},
      "id": "ee3539a5"
    },
    {
      "cell_type": "code",
      "source": "df_func_dep_juncao = df_func.merge(df_dep,\n                                   how=\"left\",\n                                   left_on=\"local de trabalho\",\n                                   right_on=\"COD_LOCAL\"\n                                  )",
      "metadata": {
        "id": "31cfa0e9-e307-4a37-b10d-1d1a9735d783",
        "trusted": true
      },
      "execution_count": 20,
      "outputs": [],
      "id": "58544f8f"
    },
    {
      "cell_type": "markdown",
      "source": "### Análise do resultado",
      "metadata": {},
      "id": "42ceb0b6"
    },
    {
      "cell_type": "code",
      "source": "df_func_dep_juncao",
      "metadata": {
        "id": "b1094f7f-426b-47b6-9270-cdba5c2a6f34",
        "trusted": true
      },
      "execution_count": 21,
      "outputs": [
        {
          "execution_count": 21,
          "output_type": "execute_result",
          "data": {
            "text/plain": "        matricula              Nome  local de trabalho Data de Ingresso  \\\n0          236548  Sra. Laura Silva               8008       2021-06-03   \n1          236548  Sra. Laura Silva               8008       2021-06-03   \n2          236548  Sra. Laura Silva               8008       2021-06-03   \n3          236548  Sra. Laura Silva               8008       2021-06-03   \n4          236548  Sra. Laura Silva               8008       2021-06-03   \n...           ...               ...                ...              ...   \n211423     242547    Fernanda Ramos               9909       2016-09-06   \n211424     242547    Fernanda Ramos               9909       2016-09-06   \n211425     242547    Fernanda Ramos               9909       2016-09-06   \n211426     242547    Fernanda Ramos               9909       2016-09-06   \n211427     242547    Fernanda Ramos               9909       2016-09-06   \n\n           Curso         Área de Conhecimento Data de Conclusão  \\\n0       Botânica          Ciências Biológicas        2015-10-14   \n1       Botânica          Ciências Biológicas        2015-10-14   \n2       Botânica          Ciências Biológicas        2015-10-14   \n3       Botânica          Ciências Biológicas        2015-10-14   \n4       Botânica          Ciências Biológicas        2015-10-14   \n...          ...                          ...               ...   \n211423    Letras  Lingüística, Letras e Artes        2011-02-18   \n211424    Letras  Lingüística, Letras e Artes        2011-02-18   \n211425    Letras  Lingüística, Letras e Artes        2011-02-18   \n211426    Letras  Lingüística, Letras e Artes        2011-02-18   \n211427    Letras  Lingüística, Letras e Artes        2011-02-18   \n\n                                              Instituição     COD  \\\n0       URI - Universidade Regional Integrada do Alto ...   55825   \n1       URI - Universidade Regional Integrada do Alto ...  265140   \n2       URI - Universidade Regional Integrada do Alto ...  302470   \n3       URI - Universidade Regional Integrada do Alto ...  311400   \n4       URI - Universidade Regional Integrada do Alto ...  318955   \n...                                                   ...     ...   \n211423  CEETEPS - Centro Estadual de Educação Tecnológ...  448080   \n211424  CEETEPS - Centro Estadual de Educação Tecnológ...  448390   \n211425  CEETEPS - Centro Estadual de Educação Tecnológ...  448695   \n211426  CEETEPS - Centro Estadual de Educação Tecnológ...  449055   \n211427  CEETEPS - Centro Estadual de Educação Tecnológ...  449495   \n\n                  NOME_LOCAL  COD_LOCAL NIVEL  \n0         DIREC-CLI. VAR. PF       8008     S  \n1       DIREC/RELACIONAMENTO       8008     K  \n2       DIREC/SOL BENEFICIOS       8008     P  \n3         DIREC/GEREN VAREJO       8008     P  \n4        DIREC/ESTR CLIENTES       8008     P  \n...                      ...        ...   ...  \n211423    DITEC/UECII/GEPLAT       9909     P  \n211424      DITEC/GECAP12/G4       9909     P  \n211425    DITEC/UECII/GECAP6       9909     P  \n211426   DITEC/UECII/GECAP12       9909     P  \n211427       DITEC/GECAP6/G6       9909     P  \n\n[211428 rows x 12 columns]",
            "text/html": "<div>\n<style scoped>\n    .dataframe tbody tr th:only-of-type {\n        vertical-align: middle;\n    }\n\n    .dataframe tbody tr th {\n        vertical-align: top;\n    }\n\n    .dataframe thead th {\n        text-align: right;\n    }\n</style>\n<table border=\"1\" class=\"dataframe\">\n  <thead>\n    <tr style=\"text-align: right;\">\n      <th></th>\n      <th>matricula</th>\n      <th>Nome</th>\n      <th>local de trabalho</th>\n      <th>Data de Ingresso</th>\n      <th>Curso</th>\n      <th>Área de Conhecimento</th>\n      <th>Data de Conclusão</th>\n      <th>Instituição</th>\n      <th>COD</th>\n      <th>NOME_LOCAL</th>\n      <th>COD_LOCAL</th>\n      <th>NIVEL</th>\n    </tr>\n  </thead>\n  <tbody>\n    <tr>\n      <th>0</th>\n      <td>236548</td>\n      <td>Sra. Laura Silva</td>\n      <td>8008</td>\n      <td>2021-06-03</td>\n      <td>Botânica</td>\n      <td>Ciências Biológicas</td>\n      <td>2015-10-14</td>\n      <td>URI - Universidade Regional Integrada do Alto ...</td>\n      <td>55825</td>\n      <td>DIREC-CLI. VAR. PF</td>\n      <td>8008</td>\n      <td>S</td>\n    </tr>\n    <tr>\n      <th>1</th>\n      <td>236548</td>\n      <td>Sra. Laura Silva</td>\n      <td>8008</td>\n      <td>2021-06-03</td>\n      <td>Botânica</td>\n      <td>Ciências Biológicas</td>\n      <td>2015-10-14</td>\n      <td>URI - Universidade Regional Integrada do Alto ...</td>\n      <td>265140</td>\n      <td>DIREC/RELACIONAMENTO</td>\n      <td>8008</td>\n      <td>K</td>\n    </tr>\n    <tr>\n      <th>2</th>\n      <td>236548</td>\n      <td>Sra. Laura Silva</td>\n      <td>8008</td>\n      <td>2021-06-03</td>\n      <td>Botânica</td>\n      <td>Ciências Biológicas</td>\n      <td>2015-10-14</td>\n      <td>URI - Universidade Regional Integrada do Alto ...</td>\n      <td>302470</td>\n      <td>DIREC/SOL BENEFICIOS</td>\n      <td>8008</td>\n      <td>P</td>\n    </tr>\n    <tr>\n      <th>3</th>\n      <td>236548</td>\n      <td>Sra. Laura Silva</td>\n      <td>8008</td>\n      <td>2021-06-03</td>\n      <td>Botânica</td>\n      <td>Ciências Biológicas</td>\n      <td>2015-10-14</td>\n      <td>URI - Universidade Regional Integrada do Alto ...</td>\n      <td>311400</td>\n      <td>DIREC/GEREN VAREJO</td>\n      <td>8008</td>\n      <td>P</td>\n    </tr>\n    <tr>\n      <th>4</th>\n      <td>236548</td>\n      <td>Sra. Laura Silva</td>\n      <td>8008</td>\n      <td>2021-06-03</td>\n      <td>Botânica</td>\n      <td>Ciências Biológicas</td>\n      <td>2015-10-14</td>\n      <td>URI - Universidade Regional Integrada do Alto ...</td>\n      <td>318955</td>\n      <td>DIREC/ESTR CLIENTES</td>\n      <td>8008</td>\n      <td>P</td>\n    </tr>\n    <tr>\n      <th>...</th>\n      <td>...</td>\n      <td>...</td>\n      <td>...</td>\n      <td>...</td>\n      <td>...</td>\n      <td>...</td>\n      <td>...</td>\n      <td>...</td>\n      <td>...</td>\n      <td>...</td>\n      <td>...</td>\n      <td>...</td>\n    </tr>\n    <tr>\n      <th>211423</th>\n      <td>242547</td>\n      <td>Fernanda Ramos</td>\n      <td>9909</td>\n      <td>2016-09-06</td>\n      <td>Letras</td>\n      <td>Lingüística, Letras e Artes</td>\n      <td>2011-02-18</td>\n      <td>CEETEPS - Centro Estadual de Educação Tecnológ...</td>\n      <td>448080</td>\n      <td>DITEC/UECII/GEPLAT</td>\n      <td>9909</td>\n      <td>P</td>\n    </tr>\n    <tr>\n      <th>211424</th>\n      <td>242547</td>\n      <td>Fernanda Ramos</td>\n      <td>9909</td>\n      <td>2016-09-06</td>\n      <td>Letras</td>\n      <td>Lingüística, Letras e Artes</td>\n      <td>2011-02-18</td>\n      <td>CEETEPS - Centro Estadual de Educação Tecnológ...</td>\n      <td>448390</td>\n      <td>DITEC/GECAP12/G4</td>\n      <td>9909</td>\n      <td>P</td>\n    </tr>\n    <tr>\n      <th>211425</th>\n      <td>242547</td>\n      <td>Fernanda Ramos</td>\n      <td>9909</td>\n      <td>2016-09-06</td>\n      <td>Letras</td>\n      <td>Lingüística, Letras e Artes</td>\n      <td>2011-02-18</td>\n      <td>CEETEPS - Centro Estadual de Educação Tecnológ...</td>\n      <td>448695</td>\n      <td>DITEC/UECII/GECAP6</td>\n      <td>9909</td>\n      <td>P</td>\n    </tr>\n    <tr>\n      <th>211426</th>\n      <td>242547</td>\n      <td>Fernanda Ramos</td>\n      <td>9909</td>\n      <td>2016-09-06</td>\n      <td>Letras</td>\n      <td>Lingüística, Letras e Artes</td>\n      <td>2011-02-18</td>\n      <td>CEETEPS - Centro Estadual de Educação Tecnológ...</td>\n      <td>449055</td>\n      <td>DITEC/UECII/GECAP12</td>\n      <td>9909</td>\n      <td>P</td>\n    </tr>\n    <tr>\n      <th>211427</th>\n      <td>242547</td>\n      <td>Fernanda Ramos</td>\n      <td>9909</td>\n      <td>2016-09-06</td>\n      <td>Letras</td>\n      <td>Lingüística, Letras e Artes</td>\n      <td>2011-02-18</td>\n      <td>CEETEPS - Centro Estadual de Educação Tecnológ...</td>\n      <td>449495</td>\n      <td>DITEC/GECAP6/G6</td>\n      <td>9909</td>\n      <td>P</td>\n    </tr>\n  </tbody>\n</table>\n<p>211428 rows × 12 columns</p>\n</div>"
          },
          "metadata": {}
        }
      ],
      "id": "1bdee6e2"
    },
    {
      "cell_type": "markdown",
      "source": "RESULTADO DA ANÁLISE:\n\n\n- Reparou-se que os registros de funcionários duplicaram, isso ocorreu pelo fato do valor atribuído à coluna COD_LOCAL (do df_dep) estar vinculado a mais de um cadastro de dependência. Nota-se no print que o código 8008 está vinculado a diversas UORs:\n    - 55825 DIREC-CLI. VAR. PF,\n    - 265140 DIREC/RELACIONAMENT\n    - 302470 DIREC/SOL BENEFICI\n    - 311400 DIREC/GEREN VAR\n    - 318955 DIREC/ESTR CLIE\n\n- Com o objetivo de se manter a coesão dos dados, será aplicado um filtro para manter apenas registros que contenham o valor S na coluna NIVEL\n",
      "metadata": {
        "id": "f63d2d9d-75a8-45f3-8e83-9b77d0c0de50"
      },
      "id": "4d774036"
    },
    {
      "cell_type": "markdown",
      "source": "### Exclusão de duplicação tutilizando a filtragem de apenas registros com a coluna \"NIVEL\" contendo valor 'S' (que representa o nível mais alto de uma cadeia de dependências e suas subordinadas)",
      "metadata": {
        "id": "c961dc09-b214-438f-8249-b29c9eccb358"
      },
      "id": "be8d05cd"
    },
    {
      "cell_type": "code",
      "source": "df_func_dep_juncao = df_func_dep_juncao[df_func_dep_juncao[\"NIVEL\"] == \"S\"]",
      "metadata": {
        "trusted": true
      },
      "execution_count": 22,
      "outputs": [],
      "id": "81e5dd01"
    },
    {
      "cell_type": "code",
      "source": "# imprime os valores do dataframe após a exclusão dos valores duplicados\ndf_func_dep_juncao",
      "metadata": {
        "id": "8a0d71d2-466c-45d7-a5b7-ec130df863bc",
        "trusted": true
      },
      "execution_count": 23,
      "outputs": [
        {
          "execution_count": 23,
          "output_type": "execute_result",
          "data": {
            "text/plain": "        matricula                  Nome  local de trabalho Data de Ingresso  \\\n0          236548      Sra. Laura Silva               8008       2021-06-03   \n32         236549        Henrique Ramos               8008       2020-06-28   \n64         236550          Marina Lopes               8008       2015-12-08   \n96         236551       Dra. Laura Dias               8008       2019-03-20   \n128        236552         Pietra Aragão               8008       2022-11-06   \n...           ...                   ...                ...              ...   \n210993     242543         Renan Almeida               9909       2023-07-03   \n211080     242544     Stephany da Cunha               9909       2015-10-01   \n211167     242545         Clarice Gomes               9909       2015-02-20   \n211254     242546  Ana Vitória Oliveira               9909       2022-01-30   \n211341     242547        Fernanda Ramos               9909       2016-09-06   \n\n                                             Curso  \\\n0                                         Botânica   \n32                            Engenharia Sanitária   \n64                                        Farmácia   \n96                                      Fisiologia   \n128                                    Comunicação   \n...                                            ...   \n210993  Recursos Florestais e Engenharia Florestal   \n211080                                    História   \n211167                                  Morfologia   \n211254                                   Filosofia   \n211341                                      Letras   \n\n               Área de Conhecimento Data de Conclusão  \\\n0               Ciências Biológicas        2015-10-14   \n32                      Engenharias        2019-03-03   \n64                Ciências da Saúde        2009-10-08   \n96              Ciências Biológicas        2017-12-07   \n128      Ciências Sociais Aplicadas        2014-07-01   \n...                             ...               ...   \n210993            Ciências Agrárias        2011-09-16   \n211080             Ciências Humanas        2013-06-22   \n211167          Ciências Biológicas        2011-01-01   \n211254             Ciências Humanas        2019-05-02   \n211341  Lingüística, Letras e Artes        2011-02-18   \n\n                                              Instituição    COD  \\\n0       URI - Universidade Regional Integrada do Alto ...  55825   \n32                      FAVAP - Faculdades Vale do Piancó  55825   \n64         UNIVILLE - Universidade da Região de Joinville  55825   \n96                 CUSC - Centro Universitário São Camilo  55825   \n128             Unifametro - Centro Universitário Fametro  55825   \n...                                                   ...    ...   \n210993                 UNESA - Universidade Estácio de Sá  40165   \n211080    CESMAC - Centro de Estudos Superiores de Maceió  40165   \n211167  USCS - Universidade Municipal de São Caetano d...  40165   \n211254  FACELI - Faculdade de Ensino Superior de Linhares  40165   \n211341  CEETEPS - Centro Estadual de Educação Tecnológ...  40165   \n\n                NOME_LOCAL  COD_LOCAL NIVEL  \n0       DIREC-CLI. VAR. PF       8008     S  \n32      DIREC-CLI. VAR. PF       8008     S  \n64      DIREC-CLI. VAR. PF       8008     S  \n96      DIREC-CLI. VAR. PF       8008     S  \n128     DIREC-CLI. VAR. PF       8008     S  \n...                    ...        ...   ...  \n210993        DITEC/UEC II       9909     S  \n211080        DITEC/UEC II       9909     S  \n211167        DITEC/UEC II       9909     S  \n211254        DITEC/UEC II       9909     S  \n211341        DITEC/UEC II       9909     S  \n\n[4433 rows x 12 columns]",
            "text/html": "<div>\n<style scoped>\n    .dataframe tbody tr th:only-of-type {\n        vertical-align: middle;\n    }\n\n    .dataframe tbody tr th {\n        vertical-align: top;\n    }\n\n    .dataframe thead th {\n        text-align: right;\n    }\n</style>\n<table border=\"1\" class=\"dataframe\">\n  <thead>\n    <tr style=\"text-align: right;\">\n      <th></th>\n      <th>matricula</th>\n      <th>Nome</th>\n      <th>local de trabalho</th>\n      <th>Data de Ingresso</th>\n      <th>Curso</th>\n      <th>Área de Conhecimento</th>\n      <th>Data de Conclusão</th>\n      <th>Instituição</th>\n      <th>COD</th>\n      <th>NOME_LOCAL</th>\n      <th>COD_LOCAL</th>\n      <th>NIVEL</th>\n    </tr>\n  </thead>\n  <tbody>\n    <tr>\n      <th>0</th>\n      <td>236548</td>\n      <td>Sra. Laura Silva</td>\n      <td>8008</td>\n      <td>2021-06-03</td>\n      <td>Botânica</td>\n      <td>Ciências Biológicas</td>\n      <td>2015-10-14</td>\n      <td>URI - Universidade Regional Integrada do Alto ...</td>\n      <td>55825</td>\n      <td>DIREC-CLI. VAR. PF</td>\n      <td>8008</td>\n      <td>S</td>\n    </tr>\n    <tr>\n      <th>32</th>\n      <td>236549</td>\n      <td>Henrique Ramos</td>\n      <td>8008</td>\n      <td>2020-06-28</td>\n      <td>Engenharia Sanitária</td>\n      <td>Engenharias</td>\n      <td>2019-03-03</td>\n      <td>FAVAP - Faculdades Vale do Piancó</td>\n      <td>55825</td>\n      <td>DIREC-CLI. VAR. PF</td>\n      <td>8008</td>\n      <td>S</td>\n    </tr>\n    <tr>\n      <th>64</th>\n      <td>236550</td>\n      <td>Marina Lopes</td>\n      <td>8008</td>\n      <td>2015-12-08</td>\n      <td>Farmácia</td>\n      <td>Ciências da Saúde</td>\n      <td>2009-10-08</td>\n      <td>UNIVILLE - Universidade da Região de Joinville</td>\n      <td>55825</td>\n      <td>DIREC-CLI. VAR. PF</td>\n      <td>8008</td>\n      <td>S</td>\n    </tr>\n    <tr>\n      <th>96</th>\n      <td>236551</td>\n      <td>Dra. Laura Dias</td>\n      <td>8008</td>\n      <td>2019-03-20</td>\n      <td>Fisiologia</td>\n      <td>Ciências Biológicas</td>\n      <td>2017-12-07</td>\n      <td>CUSC - Centro Universitário São Camilo</td>\n      <td>55825</td>\n      <td>DIREC-CLI. VAR. PF</td>\n      <td>8008</td>\n      <td>S</td>\n    </tr>\n    <tr>\n      <th>128</th>\n      <td>236552</td>\n      <td>Pietra Aragão</td>\n      <td>8008</td>\n      <td>2022-11-06</td>\n      <td>Comunicação</td>\n      <td>Ciências Sociais Aplicadas</td>\n      <td>2014-07-01</td>\n      <td>Unifametro - Centro Universitário Fametro</td>\n      <td>55825</td>\n      <td>DIREC-CLI. VAR. PF</td>\n      <td>8008</td>\n      <td>S</td>\n    </tr>\n    <tr>\n      <th>...</th>\n      <td>...</td>\n      <td>...</td>\n      <td>...</td>\n      <td>...</td>\n      <td>...</td>\n      <td>...</td>\n      <td>...</td>\n      <td>...</td>\n      <td>...</td>\n      <td>...</td>\n      <td>...</td>\n      <td>...</td>\n    </tr>\n    <tr>\n      <th>210993</th>\n      <td>242543</td>\n      <td>Renan Almeida</td>\n      <td>9909</td>\n      <td>2023-07-03</td>\n      <td>Recursos Florestais e Engenharia Florestal</td>\n      <td>Ciências Agrárias</td>\n      <td>2011-09-16</td>\n      <td>UNESA - Universidade Estácio de Sá</td>\n      <td>40165</td>\n      <td>DITEC/UEC II</td>\n      <td>9909</td>\n      <td>S</td>\n    </tr>\n    <tr>\n      <th>211080</th>\n      <td>242544</td>\n      <td>Stephany da Cunha</td>\n      <td>9909</td>\n      <td>2015-10-01</td>\n      <td>História</td>\n      <td>Ciências Humanas</td>\n      <td>2013-06-22</td>\n      <td>CESMAC - Centro de Estudos Superiores de Maceió</td>\n      <td>40165</td>\n      <td>DITEC/UEC II</td>\n      <td>9909</td>\n      <td>S</td>\n    </tr>\n    <tr>\n      <th>211167</th>\n      <td>242545</td>\n      <td>Clarice Gomes</td>\n      <td>9909</td>\n      <td>2015-02-20</td>\n      <td>Morfologia</td>\n      <td>Ciências Biológicas</td>\n      <td>2011-01-01</td>\n      <td>USCS - Universidade Municipal de São Caetano d...</td>\n      <td>40165</td>\n      <td>DITEC/UEC II</td>\n      <td>9909</td>\n      <td>S</td>\n    </tr>\n    <tr>\n      <th>211254</th>\n      <td>242546</td>\n      <td>Ana Vitória Oliveira</td>\n      <td>9909</td>\n      <td>2022-01-30</td>\n      <td>Filosofia</td>\n      <td>Ciências Humanas</td>\n      <td>2019-05-02</td>\n      <td>FACELI - Faculdade de Ensino Superior de Linhares</td>\n      <td>40165</td>\n      <td>DITEC/UEC II</td>\n      <td>9909</td>\n      <td>S</td>\n    </tr>\n    <tr>\n      <th>211341</th>\n      <td>242547</td>\n      <td>Fernanda Ramos</td>\n      <td>9909</td>\n      <td>2016-09-06</td>\n      <td>Letras</td>\n      <td>Lingüística, Letras e Artes</td>\n      <td>2011-02-18</td>\n      <td>CEETEPS - Centro Estadual de Educação Tecnológ...</td>\n      <td>40165</td>\n      <td>DITEC/UEC II</td>\n      <td>9909</td>\n      <td>S</td>\n    </tr>\n  </tbody>\n</table>\n<p>4433 rows × 12 columns</p>\n</div>"
          },
          "metadata": {}
        }
      ],
      "id": "2c1dae3b"
    },
    {
      "cell_type": "markdown",
      "source": "### Redução ou Seleção de colunas",
      "metadata": {},
      "id": "da3c5a6f"
    },
    {
      "cell_type": "code",
      "source": "df_func_dep = df_func_dep_juncao[[\"matricula\",\"Nome\",\"Data de Ingresso\",\"Área de Conhecimento\",\"Data de Conclusão\",\"COD\",\"NOME_LOCAL\"]]",
      "metadata": {
        "id": "f2ee1b5a-6910-4ccf-b263-b6e68865e1c9",
        "trusted": true
      },
      "execution_count": 24,
      "outputs": [],
      "id": "cdef64ba"
    },
    {
      "cell_type": "code",
      "source": "df_func_dep.head(2)",
      "metadata": {
        "id": "8a0d71d2-466c-45d7-a5b7-ec130df863bc",
        "trusted": true
      },
      "execution_count": 25,
      "outputs": [
        {
          "execution_count": 25,
          "output_type": "execute_result",
          "data": {
            "text/plain": "    matricula              Nome Data de Ingresso Área de Conhecimento  \\\n0      236548  Sra. Laura Silva       2021-06-03  Ciências Biológicas   \n32     236549    Henrique Ramos       2020-06-28          Engenharias   \n\n   Data de Conclusão    COD          NOME_LOCAL  \n0         2015-10-14  55825  DIREC-CLI. VAR. PF  \n32        2019-03-03  55825  DIREC-CLI. VAR. PF  ",
            "text/html": "<div>\n<style scoped>\n    .dataframe tbody tr th:only-of-type {\n        vertical-align: middle;\n    }\n\n    .dataframe tbody tr th {\n        vertical-align: top;\n    }\n\n    .dataframe thead th {\n        text-align: right;\n    }\n</style>\n<table border=\"1\" class=\"dataframe\">\n  <thead>\n    <tr style=\"text-align: right;\">\n      <th></th>\n      <th>matricula</th>\n      <th>Nome</th>\n      <th>Data de Ingresso</th>\n      <th>Área de Conhecimento</th>\n      <th>Data de Conclusão</th>\n      <th>COD</th>\n      <th>NOME_LOCAL</th>\n    </tr>\n  </thead>\n  <tbody>\n    <tr>\n      <th>0</th>\n      <td>236548</td>\n      <td>Sra. Laura Silva</td>\n      <td>2021-06-03</td>\n      <td>Ciências Biológicas</td>\n      <td>2015-10-14</td>\n      <td>55825</td>\n      <td>DIREC-CLI. VAR. PF</td>\n    </tr>\n    <tr>\n      <th>32</th>\n      <td>236549</td>\n      <td>Henrique Ramos</td>\n      <td>2020-06-28</td>\n      <td>Engenharias</td>\n      <td>2019-03-03</td>\n      <td>55825</td>\n      <td>DIREC-CLI. VAR. PF</td>\n    </tr>\n  </tbody>\n</table>\n</div>"
          },
          "metadata": {}
        }
      ],
      "id": "7a25c1eb"
    },
    {
      "cell_type": "markdown",
      "source": "### renomeando colunas",
      "metadata": {},
      "id": "5eb4f859"
    },
    {
      "cell_type": "code",
      "source": "df_func_dep.columns = [\"cd_func\", \"nm_func\", \"dt_ingso\", \"area_cmnto\", \"dt_conc\", \"cd_uor\", \"nm_uor_rdz\"]",
      "metadata": {
        "id": "f1722a12-aabc-4591-8b22-353a1199c04f",
        "trusted": true
      },
      "execution_count": 26,
      "outputs": [],
      "id": "2e1680f5"
    },
    {
      "cell_type": "code",
      "source": "df_func_dep.head(2)",
      "metadata": {
        "id": "eb0ce2ae-0349-4609-9b01-ac5d3a695efd",
        "trusted": true
      },
      "execution_count": 27,
      "outputs": [
        {
          "execution_count": 27,
          "output_type": "execute_result",
          "data": {
            "text/plain": "    cd_func           nm_func    dt_ingso           area_cmnto     dt_conc  \\\n0    236548  Sra. Laura Silva  2021-06-03  Ciências Biológicas  2015-10-14   \n32   236549    Henrique Ramos  2020-06-28          Engenharias  2019-03-03   \n\n    cd_uor          nm_uor_rdz  \n0    55825  DIREC-CLI. VAR. PF  \n32   55825  DIREC-CLI. VAR. PF  ",
            "text/html": "<div>\n<style scoped>\n    .dataframe tbody tr th:only-of-type {\n        vertical-align: middle;\n    }\n\n    .dataframe tbody tr th {\n        vertical-align: top;\n    }\n\n    .dataframe thead th {\n        text-align: right;\n    }\n</style>\n<table border=\"1\" class=\"dataframe\">\n  <thead>\n    <tr style=\"text-align: right;\">\n      <th></th>\n      <th>cd_func</th>\n      <th>nm_func</th>\n      <th>dt_ingso</th>\n      <th>area_cmnto</th>\n      <th>dt_conc</th>\n      <th>cd_uor</th>\n      <th>nm_uor_rdz</th>\n    </tr>\n  </thead>\n  <tbody>\n    <tr>\n      <th>0</th>\n      <td>236548</td>\n      <td>Sra. Laura Silva</td>\n      <td>2021-06-03</td>\n      <td>Ciências Biológicas</td>\n      <td>2015-10-14</td>\n      <td>55825</td>\n      <td>DIREC-CLI. VAR. PF</td>\n    </tr>\n    <tr>\n      <th>32</th>\n      <td>236549</td>\n      <td>Henrique Ramos</td>\n      <td>2020-06-28</td>\n      <td>Engenharias</td>\n      <td>2019-03-03</td>\n      <td>55825</td>\n      <td>DIREC-CLI. VAR. PF</td>\n    </tr>\n  </tbody>\n</table>\n</div>"
          },
          "metadata": {}
        }
      ],
      "id": "c86d91e8"
    },
    {
      "cell_type": "markdown",
      "source": "\n## Gravação de Dados",
      "metadata": {},
      "id": "2f1354f8"
    },
    {
      "cell_type": "code",
      "source": "# no labblite\ndf_func_dep.to_csv(\"func_dep.csv\", sep=';',\n                   index=False, \n                   encoding='utf-8')",
      "metadata": {
        "trusted": true
      },
      "execution_count": 28,
      "outputs": [],
      "id": "94b109de-4317-40f8-9e33-605125508966"
    },
    {
      "cell_type": "code",
      "source": "",
      "metadata": {},
      "execution_count": null,
      "outputs": [],
      "id": "ef5f3e66"
    }
  ]
}